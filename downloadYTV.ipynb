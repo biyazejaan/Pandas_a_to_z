{
 "cells": [
  {
   "cell_type": "code",
   "execution_count": 1,
   "metadata": {},
   "outputs": [
    {
     "name": "stdout",
     "output_type": "stream",
     "text": [
      "Collecting pytubeNote: you may need to restart the kernel to use updated packages.\n",
      "\n",
      "  Downloading pytube-12.1.0-py3-none-any.whl (56 kB)\n",
      "     -------------------------------------- 56.5/56.5 kB 164.1 kB/s eta 0:00:00\n",
      "Installing collected packages: pytube\n",
      "Successfully installed pytube-12.1.0\n",
      "\n",
      "[notice] A new release of pip available: 22.2 -> 22.2.2\n",
      "[notice] To update, run: python.exe -m pip install --upgrade pip\n"
     ]
    }
   ],
   "source": [
    "pip install pytube"
   ]
  },
  {
   "cell_type": "code",
   "execution_count": 4,
   "metadata": {},
   "outputs": [
    {
     "name": "stdout",
     "output_type": "stream",
     "text": [
      "Jubin Nautiyal: Barsaat Ho Jaaye | Love Song 2022 | Shivin N, Ridhi D| Payal D, Rashmi V | Bhushan K\n"
     ]
    }
   ],
   "source": [
    "from pytube import YouTube\n",
    "link = \"https://www.youtube.com/watch?v=O-Rnan8IOZo\"\n",
    "yt = YouTube(link)\n",
    "\n",
    "print(yt.title)"
   ]
  },
  {
   "cell_type": "code",
   "execution_count": 5,
   "metadata": {},
   "outputs": [
    {
     "name": "stdout",
     "output_type": "stream",
     "text": [
      "https://i.ytimg.com/vi/O-Rnan8IOZo/sddefault.jpg?v=62fc7ff3\n"
     ]
    }
   ],
   "source": [
    "print(yt.thumbnail_url)"
   ]
  },
  {
   "cell_type": "code",
   "execution_count": 7,
   "metadata": {},
   "outputs": [
    {
     "name": "stderr",
     "output_type": "stream",
     "text": [
      "C:\\Users\\Jahanzaib\\AppData\\Local\\Temp\\ipykernel_2188\\3769030690.py:1: DeprecationWarning: Call to deprecated function all (This object can be treated as a list, all() is useless).\n",
      "  video = yt.streams.all()\n"
     ]
    },
    {
     "name": "stdout",
     "output_type": "stream",
     "text": [
      "(0, <Stream: itag=\"17\" mime_type=\"video/3gpp\" res=\"144p\" fps=\"6fps\" vcodec=\"mp4v.20.3\" acodec=\"mp4a.40.2\" progressive=\"True\" type=\"video\">)\n",
      "(1, <Stream: itag=\"18\" mime_type=\"video/mp4\" res=\"360p\" fps=\"25fps\" vcodec=\"avc1.42001E\" acodec=\"mp4a.40.2\" progressive=\"True\" type=\"video\">)\n",
      "(2, <Stream: itag=\"22\" mime_type=\"video/mp4\" res=\"720p\" fps=\"25fps\" vcodec=\"avc1.64001F\" acodec=\"mp4a.40.2\" progressive=\"True\" type=\"video\">)\n",
      "(3, <Stream: itag=\"271\" mime_type=\"video/webm\" res=\"1440p\" fps=\"25fps\" vcodec=\"vp9\" progressive=\"False\" type=\"video\">)\n",
      "(4, <Stream: itag=\"400\" mime_type=\"video/mp4\" res=\"1440p\" fps=\"25fps\" vcodec=\"av01.0.08M.08\" progressive=\"False\" type=\"video\">)\n",
      "(5, <Stream: itag=\"137\" mime_type=\"video/mp4\" res=\"1080p\" fps=\"25fps\" vcodec=\"avc1.640028\" progressive=\"False\" type=\"video\">)\n",
      "(6, <Stream: itag=\"248\" mime_type=\"video/webm\" res=\"1080p\" fps=\"25fps\" vcodec=\"vp9\" progressive=\"False\" type=\"video\">)\n",
      "(7, <Stream: itag=\"399\" mime_type=\"video/mp4\" res=\"1080p\" fps=\"25fps\" vcodec=\"av01.0.08M.08\" progressive=\"False\" type=\"video\">)\n",
      "(8, <Stream: itag=\"136\" mime_type=\"video/mp4\" res=\"720p\" fps=\"25fps\" vcodec=\"avc1.4d401f\" progressive=\"False\" type=\"video\">)\n",
      "(9, <Stream: itag=\"247\" mime_type=\"video/webm\" res=\"720p\" fps=\"25fps\" vcodec=\"vp9\" progressive=\"False\" type=\"video\">)\n",
      "(10, <Stream: itag=\"398\" mime_type=\"video/mp4\" res=\"720p\" fps=\"25fps\" vcodec=\"av01.0.05M.08\" progressive=\"False\" type=\"video\">)\n",
      "(11, <Stream: itag=\"135\" mime_type=\"video/mp4\" res=\"480p\" fps=\"25fps\" vcodec=\"avc1.4d401e\" progressive=\"False\" type=\"video\">)\n",
      "(12, <Stream: itag=\"244\" mime_type=\"video/webm\" res=\"480p\" fps=\"25fps\" vcodec=\"vp9\" progressive=\"False\" type=\"video\">)\n",
      "(13, <Stream: itag=\"397\" mime_type=\"video/mp4\" res=\"480p\" fps=\"25fps\" vcodec=\"av01.0.04M.08\" progressive=\"False\" type=\"video\">)\n",
      "(14, <Stream: itag=\"134\" mime_type=\"video/mp4\" res=\"360p\" fps=\"25fps\" vcodec=\"avc1.4d401e\" progressive=\"False\" type=\"video\">)\n",
      "(15, <Stream: itag=\"243\" mime_type=\"video/webm\" res=\"360p\" fps=\"25fps\" vcodec=\"vp9\" progressive=\"False\" type=\"video\">)\n",
      "(16, <Stream: itag=\"396\" mime_type=\"video/mp4\" res=\"360p\" fps=\"25fps\" vcodec=\"av01.0.01M.08\" progressive=\"False\" type=\"video\">)\n",
      "(17, <Stream: itag=\"133\" mime_type=\"video/mp4\" res=\"240p\" fps=\"25fps\" vcodec=\"avc1.4d4015\" progressive=\"False\" type=\"video\">)\n",
      "(18, <Stream: itag=\"242\" mime_type=\"video/webm\" res=\"240p\" fps=\"25fps\" vcodec=\"vp9\" progressive=\"False\" type=\"video\">)\n",
      "(19, <Stream: itag=\"395\" mime_type=\"video/mp4\" res=\"240p\" fps=\"25fps\" vcodec=\"av01.0.00M.08\" progressive=\"False\" type=\"video\">)\n",
      "(20, <Stream: itag=\"160\" mime_type=\"video/mp4\" res=\"144p\" fps=\"25fps\" vcodec=\"avc1.4d400c\" progressive=\"False\" type=\"video\">)\n",
      "(21, <Stream: itag=\"278\" mime_type=\"video/webm\" res=\"144p\" fps=\"25fps\" vcodec=\"vp9\" progressive=\"False\" type=\"video\">)\n",
      "(22, <Stream: itag=\"394\" mime_type=\"video/mp4\" res=\"144p\" fps=\"25fps\" vcodec=\"av01.0.00M.08\" progressive=\"False\" type=\"video\">)\n",
      "(23, <Stream: itag=\"139\" mime_type=\"audio/mp4\" abr=\"48kbps\" acodec=\"mp4a.40.5\" progressive=\"False\" type=\"audio\">)\n",
      "(24, <Stream: itag=\"140\" mime_type=\"audio/mp4\" abr=\"128kbps\" acodec=\"mp4a.40.2\" progressive=\"False\" type=\"audio\">)\n",
      "(25, <Stream: itag=\"249\" mime_type=\"audio/webm\" abr=\"50kbps\" acodec=\"opus\" progressive=\"False\" type=\"audio\">)\n",
      "(26, <Stream: itag=\"250\" mime_type=\"audio/webm\" abr=\"70kbps\" acodec=\"opus\" progressive=\"False\" type=\"audio\">)\n",
      "(27, <Stream: itag=\"251\" mime_type=\"audio/webm\" abr=\"160kbps\" acodec=\"opus\" progressive=\"False\" type=\"audio\">)\n",
      "\n",
      "Completed\n"
     ]
    }
   ],
   "source": [
    "video = yt.streams.all()\n",
    "\n",
    "#video = yt.streams.filter(only_audio = True)\n",
    "streamlist = list(enumerate(video))\n",
    "for i in streamlist:\n",
    "    print(i)\n",
    "print()    \n",
    "stream = int(input(\"Enter the number of the stream you want to download: \"))\n",
    "video[stream].download()\n",
    "print('Completed')\n"
   ]
  },
  {
   "cell_type": "code",
   "execution_count": null,
   "metadata": {},
   "outputs": [],
   "source": []
  }
 ],
 "metadata": {
  "kernelspec": {
   "display_name": "Python 3.10.2 64-bit",
   "language": "python",
   "name": "python3"
  },
  "language_info": {
   "codemirror_mode": {
    "name": "ipython",
    "version": 3
   },
   "file_extension": ".py",
   "mimetype": "text/x-python",
   "name": "python",
   "nbconvert_exporter": "python",
   "pygments_lexer": "ipython3",
   "version": "3.10.2"
  },
  "orig_nbformat": 4,
  "vscode": {
   "interpreter": {
    "hash": "56b2d59c60e4f87487f41cc5e6e8f6aa7185f560bca4a918a113fd85cb7bd9a7"
   }
  }
 },
 "nbformat": 4,
 "nbformat_minor": 2
}
